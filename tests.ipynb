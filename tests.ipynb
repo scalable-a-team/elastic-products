{
 "cells": [
  {
   "cell_type": "code",
   "execution_count": 1,
   "metadata": {},
   "outputs": [],
   "source": [
    "#create categories\n",
    "#create tags\n",
    "#upload an image\n",
    "\n",
    "\n",
    "\n",
    "from requests import request\n",
    "\n",
    "\n",
    "example_category = '3D print'\n",
    "example_tag = 'plastic'\n",
    "example_image = 'https://scalable-final-products.s3.ap-southeast-1.amazonaws.com/1-1-2022-07-19T09%3A02%3A49.072529-20hyem.jpg'\n",
    "\n"
   ]
  },
  {
   "cell_type": "code",
   "execution_count": 2,
   "metadata": {},
   "outputs": [],
   "source": [
    "\n",
    "def create_cat():\n",
    "    return request(\"POST\", \"http://localhost:5000/products/create/category\", json={\"category\": example_category})\n",
    "\n",
    "def create_tag(): \n",
    "    return request(\"POST\", \"http://localhost:5000/products/create/tag\", json={\"tag\": example_tag})\n",
    "\n"
   ]
  },
  {
   "cell_type": "code",
   "execution_count": 4,
   "metadata": {},
   "outputs": [
    {
     "data": {
      "text/plain": [
       "<Response [200]>"
      ]
     },
     "execution_count": 4,
     "metadata": {},
     "output_type": "execute_result"
    }
   ],
   "source": [
    "create_cat()\n"
   ]
  },
  {
   "cell_type": "code",
   "execution_count": null,
   "metadata": {},
   "outputs": [],
   "source": [
    "create_tag()"
   ]
  },
  {
   "cell_type": "code",
   "execution_count": null,
   "metadata": {},
   "outputs": [],
   "source": []
  }
 ],
 "metadata": {
  "kernelspec": {
   "display_name": "Python 3.9.13 64-bit (windows store)",
   "language": "python",
   "name": "python3"
  },
  "language_info": {
   "codemirror_mode": {
    "name": "ipython",
    "version": 3
   },
   "file_extension": ".py",
   "mimetype": "text/x-python",
   "name": "python",
   "nbconvert_exporter": "python",
   "pygments_lexer": "ipython3",
   "version": "3.9.13"
  },
  "orig_nbformat": 4,
  "vscode": {
   "interpreter": {
    "hash": "2cefb447fe1ae8ea11eb173b81a1648897c6d043c7b392809c575caacc8c91ae"
   }
  }
 },
 "nbformat": 4,
 "nbformat_minor": 2
}
