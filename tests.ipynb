{
 "cells": [
  {
   "cell_type": "code",
   "execution_count": 4,
   "metadata": {},
   "outputs": [],
   "source": [
    "#create categories\n",
    "#create tags\n",
    "#upload an image\n",
    "\n",
    "\n",
    "\n",
    "from requests import request\n",
    "\n",
    "\n",
    "example_category = '3D print'\n",
    "example_tag = 'plastic'\n",
    "example_image = 'https://scalable-final-products.s3.ap-southeast-1.amazonaws.com/1-1-2022-07-19T09%3A02%3A49.072529-20hyem.jpg'\n",
    "\n"
   ]
  },
  {
   "cell_type": "code",
   "execution_count": 5,
   "metadata": {},
   "outputs": [],
   "source": [
    "\n",
    "def create_cat(cat_name):\n",
    "    return request(\"POST\", \"http://localhost:5000/products/create/category\", json={\"category\": cat_name}).json()\n",
    "\n",
    "def create_tag(tag_name): \n",
    "    return request(\"POST\", \"http://localhost:5000/products/create/tag\", json={\"tag\": tag_name}).json()\n",
    "\n",
    "def upload_photo_to_s3(image):\n",
    "    return request(\"POST\", \"http://localhost:5000/products/upload_photo\", files={\"image\": open(image)})\n",
    "\n",
    "\n",
    "\n"
   ]
  },
  {
   "cell_type": "code",
   "execution_count": null,
   "metadata": {},
   "outputs": [],
   "source": [
    "def random_product(\n",
    "    seller_name, seller_id, product_name,\n",
    "    description, price, tags, categories,\n",
    "    image_urls\n",
    "):\n",
    "    content = {\n",
    "        \"product\": {\n",
    "            \"seller_name\": seller_name,\n",
    "            \"seller_id\": seller_id,\n",
    "            \"product_name\": product_name,\n",
    "            \"description\": description,\n",
    "            \"price\": price,\n",
    "            \"tags\": tags,\n",
    "            \"categories\": categories,\n",
    "            \"image_urls\": image_urls\n",
    "        }\n",
    "    }\n",
    "    return request(\"POST\", \"http://localhost:5000/products/create/product\", json=content)"
   ]
  },
  {
   "cell_type": "code",
   "execution_count": 15,
   "metadata": {},
   "outputs": [
    {
     "data": {
      "text/plain": [
       "[{'categories': [{'_id': 1, 'category_name': 'Glassware'}]},\n",
       " {'tags': [{'_id': 1, 'tag_name': 'jar'}, {'_id': 2, 'tag_name': 'dirt'}]}]"
      ]
     },
     "execution_count": 15,
     "metadata": {},
     "output_type": "execute_result"
    }
   ],
   "source": [
    "def get_cats_and_tags():\n",
    "\n",
    "\n",
    "    cats = request(\"GET\", \"http://localhost:5000/products/categories\").json()\n",
    "\n",
    "\n",
    "    tags = request(\"GET\", \"http://localhost:5000/products/tags\").json()\n",
    "\n",
    "    return (cats, tags)\n",
    "    \n",
    "get_cats_and_tags()"
   ]
  },
  {
   "cell_type": "code",
   "execution_count": 31,
   "metadata": {},
   "outputs": [],
   "source": [
    "import names\n",
    "\n",
    "def random_sellers(n, lst):\n",
    "    if n == 0:\n",
    "        return lst\n",
    "    else:\n",
    "        #make random seller\n",
    "        lst.append({\n",
    "            \"id\": n,\n",
    "            \"name\" : names.get_full_name()\n",
    "            })\n",
    "        return random_sellers(n-1, lst)"
   ]
  },
  {
   "cell_type": "code",
   "execution_count": 40,
   "metadata": {},
   "outputs": [],
   "source": [
    "\n",
    "\n",
    "\n",
    "\n",
    "cats, tags = get_cats_and_tags()\n",
    "\n",
    "cats = cats[\"categories\"]\n",
    "tags = tags[\"tags\"]\n",
    "\n",
    "    "
   ]
  },
  {
   "cell_type": "code",
   "execution_count": 45,
   "metadata": {},
   "outputs": [],
   "source": [
    "#Create a huge db with a bunch of fake products\n",
    "from random import shuffle\n",
    "import random as rd\n",
    "sellers = random_sellers(100, [])\n",
    "shuffle(sellers)\n",
    "products = []\n",
    "for seller in sellers:\n",
    "    sell_id = seller[\"id\"]\n",
    "    sell_name = seller[\"name\"]\n",
    "    shuffle(cats)\n",
    "    cat =  cats[0]['_id']\n",
    "    shuffle(tags)\n",
    "    (tag1, tag2, tag3) = (tags[0]['_id'], tags[1]['_id'], tags[2]['_id'])\n",
    "    prod_tags = [tag1, tag2, tag3]\n",
    "    prod_name = f'PRODUCT OF {cats[0][\"name\"]}'\n",
    "    price = float(rd.randint(0, 1000)) / 100.0\n",
    "    description = tag1 + tag2 + tag3\n",
    "    images = []\n",
    "    prod = {\n",
    "        \"seller_name\": sell_name,\n",
    "        \"seller_id\": sell_id,\n",
    "        \"product_name\": prod_name,\n",
    "        \"description\": description,\n",
    "        \"price\": price,\n",
    "        \"tags\": prod_tags,\n",
    "        \"categories\": [cat],\n",
    "        \"image_urls\": images\n",
    "    }\n",
    "    products.append(prod)\n"
   ]
  },
  {
   "cell_type": "code",
   "execution_count": 47,
   "metadata": {},
   "outputs": [
    {
     "name": "stdout",
     "output_type": "stream",
     "text": [
      "100\n"
     ]
    },
    {
     "data": {
      "text/plain": [
       "{'seller_name': 'Leslie Brownfield',\n",
       " 'seller_id': 88,\n",
       " 'product_name': 'PRODUCT OF 4',\n",
       " 'description': 51,\n",
       " 'price': 0.67,\n",
       " 'tags': [15, 14, 22],\n",
       " 'categories': [4],\n",
       " 'image_urls': []}"
      ]
     },
     "execution_count": 47,
     "metadata": {},
     "output_type": "execute_result"
    }
   ],
   "source": [
    "print(len(products))\n",
    "products[0]"
   ]
  },
  {
   "cell_type": "code",
   "execution_count": null,
   "metadata": {},
   "outputs": [],
   "source": [
    "sellers = random_sellers(100, [])\n",
    "sellers"
   ]
  },
  {
   "cell_type": "code",
   "execution_count": null,
   "metadata": {},
   "outputs": [],
   "source": [
    "cats = [\"3D printing\", \"Glass\", \"Marble\", \"Steel\", \"Wood\", \"Plastic\", \"Metal\", \"Paper\"]\n",
    "#A List of 50 different tag names for the products\n",
    "tags = [\"printing\", \"3d\", \"plastic\", \"bricks\", \"pla\", \"abs\", \"resin\", \"mold\", \"cast\"\n",
    "\"glass\", \"wax\", \"batteries\", \"assembly\", \"reliable\", \"inexpensive\", \"cheap\", \"fast\", \"quality\",\n",
    "\"quick\", \"5 stars\", \"4 stars\", \"3 stars\", \"2 stars\", \"1 stars\", \"0 stars\", \"expensive\", \"slow\"\n",
    "]\n",
    "\n",
    "[create_cat(cat) for cat in cats]\n",
    "[create_tag(tag) for tag in tags]"
   ]
  },
  {
   "cell_type": "code",
   "execution_count": 19,
   "metadata": {},
   "outputs": [
    {
     "data": {
      "text/plain": [
       "[<bound method Response.json of <Response [200]>>,\n",
       " <bound method Response.json of <Response [200]>>]"
      ]
     },
     "execution_count": 19,
     "metadata": {},
     "output_type": "execute_result"
    }
   ],
   "source": [
    "#nuke methods, remember to restart the pod/server after doing this to refresh the db\n",
    "def nuke_db():\n",
    "    resp = [request(\"DELETE\", \"http://localhost:5000/admin/delete/database/all\").json()]\n",
    "    resp.append(request(\"DELETE\", \"http://localhost:5000/admin/delete/elasticsearch/all\").json())\n",
    "    return resp\n",
    "\n",
    "nuke_db()"
   ]
  }
 ],
 "metadata": {
  "kernelspec": {
   "display_name": "Python 3.9.13 64-bit (windows store)",
   "language": "python",
   "name": "python3"
  },
  "language_info": {
   "codemirror_mode": {
    "name": "ipython",
    "version": 3
   },
   "file_extension": ".py",
   "mimetype": "text/x-python",
   "name": "python",
   "nbconvert_exporter": "python",
   "pygments_lexer": "ipython3",
   "version": "3.9.13"
  },
  "orig_nbformat": 4,
  "vscode": {
   "interpreter": {
    "hash": "2cefb447fe1ae8ea11eb173b81a1648897c6d043c7b392809c575caacc8c91ae"
   }
  }
 },
 "nbformat": 4,
 "nbformat_minor": 2
}
